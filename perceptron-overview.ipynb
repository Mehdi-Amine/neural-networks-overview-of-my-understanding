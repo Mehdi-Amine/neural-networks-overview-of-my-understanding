{
 "cells": [
  {
   "cell_type": "markdown",
   "metadata": {},
   "source": [
    "# Perceptron: Overview\n",
    "***\n",
    "## The Structure of a Perceptron\n",
    "An input layer fully connected with an output layer: \n",
    "\n",
    "- The input layer contains nodes representative of each attribute in the dataset. Think of each node matching one column in the dataset. *A common cause for confusion in my experience is to visualize the perceptron taking in more than one instance from the dataset at once.* That is not the case; the input layer is a placeholder for one instance at a time.\n",
    "\n",
    "\n",
    "- The output layer for perceptrons is one node. It contains the result of the dot product between the input and the parameters. Because dot products are linear functions, they are not enough to represent nonlinearities in the data. Neural Networks are called Universal Function Approximators because they can approximate any function. To be able to achieve this, non-linearity is introduced with activation functions like Sigmoid, and ReLU.\n",
    "\n",
    "\n",
    "$$a' = \\sigma(w a + b) \\tag{1}$$\n",
    "\n",
    "In equation (1), $a$ is initially the input vector. $a'$ is the vector of all the activations in the next layer. $w$ is the vector of weights belonging to $a'$. Each node in $a'$ has as many weights as there are nodes in $a$. $b$ is the vector of biases belonging to $a'$. Each node in $a'$ has only one bias. \n",
    "\n",
    "**Note a:** A common confusion in my experience is to think of $w$ and $b$ as the parameters of $a$, while in fact they belong to $a'$.\n",
    "\n",
    "**Note b:** Sometimes the weights and biases are merged in one parameter vector. This can be done by prepending a 1 in the vector of inputs, and prepending the bias in the vector initially containing only the weights. \n",
    "\n",
    "## Training a Perceptron\n",
    "1. Initially, the parameters are generated randomly. A cost function is chosen to evaluate the perceptron's output:\n",
    "```python\n",
    "bias = numpy.random.randn(1, 1)\n",
    "weights = numpy.random.randn(input_length, 1) # for some integer input_length\n",
    "```  \n",
    "2. The choice for a cost function depends on the purpose of the perceptron. I'm starting with an example that uses regression, and there won't be an issue with outliers in my data. Hence I'm going to choose Mean Squared Error. Recall that Mean Absolute Error is more suitable for datasets with outliers. Apparently The Huber Loss is a combination of both, but I have yet to investigate. MSE: \n",
    "\n",
    "    $$C(w,b) \\equiv\\frac{1}{2n} \\sum_x \\| y(x) - a\\|^2 \\tag{2}$$\n",
    "\n",
    "    **Note a:** You will not always see the division by 2 at the beginning, this confused me at first. It turns out that it's convenient when deriving the function. \n",
    "\n",
    "    **Note b:** A common and wrong expectation to have is that I'm going to use the cost function to train my model. In fact I only use its gradient.\n",
    " \n",
    "3. Another important choice to make concerns the activation function. It also depends on the purpose of the Perceptron. If you want the model predictions to be between 0 and 1, the sigmoid function works. Between -1 and 1, the hyperbolic tangent function works. ReLU is the standard because it is fast to compute as the derivative is 0 for all negative values (0 included), and 1 for all values greater than 0.\n",
    "\n",
    "    **Note a:** Activation functions enable neural networks to be universal function approximators. Without the sigmoid function, equation (1) is linear. Stacking linear functions ends up being just one big linear function, unable to represent nonlinear relationships. Hence the use of activation functions.\n",
    "\n",
    "    **Note b:** It is important to take into consideration the labels when choosing the activation function. Scale the labels of the dataset to match the scale of the predictions. \n",
    "\n",
    "    **Note c:** Don't use an activation function on the output layer if you are performing regression and want your model to be free in predicting any range of values.\n",
    "\n",
    "4. Feedforward an instance by computing equation (1).\n",
    "    ```python\n",
    "    def sigmoid(self, z):\n",
    "        return 1.0/(1.0+np.exp(-z))\n",
    "    z = numpy.dot(weights, instance) + bias.squeeze()\n",
    "    a = sigmoid(z)\n",
    "    ``` \n",
    "**Note a:** When feedforward is used for training, it is necessary to retain the result of all dot products + bias (z) and activations (a). For inference however, no need to retain these values, I'm simply interested in the final output.\n",
    "<br/><br/>\n",
    "5. Calculate the gradient of the cost function: Derive the cost function with respect to the activation function, the dot product z, the weights, and the biases. I don't need to use the chain rule in the case of the Perceptron, but I will once I implement a Neural Network. For now these are the derivatives needed:\n",
    "\n",
    "    $$\\nabla_a C = (a^L-y) \\tag{3}$$\n",
    "\n",
    "    $$\\delta^L = \\nabla_a C \\odot \\sigma'(z^L) \\tag{4}$$\n",
    "\n",
    "    $$\\frac{\\partial C}{\\partial b} = \\delta \\tag{5}$$\n",
    "\n",
    "    $$\\frac{\\partial C}{\\partial w} = instance\\;\\delta \\tag{6}$$\n",
    "\n",
    "    ```python\n",
    "    # Equation 3\n",
    "    def cost_derivative(self, activation, y):\n",
    "        return (activation-y)\n",
    "\n",
    "    # Equation 4\n",
    "    def sigmoid_prime(self, z):\n",
    "        sig = sigmoid(z)\n",
    "        return sig * (1 - sig)\n",
    "    delta = cost_derivative(activation, y) * sigmoid_prime(z)\n",
    "\n",
    "    # Equation 5\n",
    "    nabla_b = delta\n",
    "\n",
    "    # Equation 6\n",
    "    nabla_w = numpy.dot(delta, instance.reshape(1,-1))\n",
    "    ```\n",
    "\n",
    "6. Backpropagate the error of the instance, then update the weights and bias using:\n",
    "\n",
    "    $$b_{new} \\rightarrow b_{old}-\\eta \\delta \\tag{7}$$\n",
    "\n",
    "    $$w_{new} \\rightarrow w_{old}-\\eta \\;instance\\;\\delta \\tag{8}$$\n",
    "\n",
    "    Then repeat from step 4 using another instance. Gradient Descent stops when the gradient is 0, close to 0 by some defined value, or after the defined maximum number of iterations has been reached."
   ]
  },
  {
   "cell_type": "markdown",
   "metadata": {},
   "source": [
    "# Perceptron: Full Implementation\n",
    "***"
   ]
  },
  {
   "cell_type": "code",
   "execution_count": 5,
   "metadata": {},
   "outputs": [],
   "source": [
    "import numpy as np \n",
    "from numpy.random import shuffle"
   ]
  },
  {
   "cell_type": "code",
   "execution_count": 19,
   "metadata": {},
   "outputs": [],
   "source": [
    "np.random.seed(42)\n",
    "dx = np.random.randint(low=-10, high=11, size=(100,2)).astype(float)\n",
    "dy = (dx[:,0] + dx[:,1]*0.5)\n",
    "dx_train, dx_test, dy_train, dy_test = dx[:80], dx[80:], dy[:80], dy[80:]\n",
    "training_data = list(zip(dx_train, dy_train))\n",
    "testing_data = list(zip(dx_test, dy_test))"
   ]
  },
  {
   "cell_type": "code",
   "execution_count": 20,
   "metadata": {},
   "outputs": [
    {
     "data": {
      "text/plain": [
       "array([[-4. ,  9. ,  0.5],\n",
       "       [ 4. ,  0. ,  4. ],\n",
       "       [-3. , 10. ,  2. ],\n",
       "       [-4. ,  8. ,  0. ],\n",
       "       [ 0. ,  0. ,  0. ]])"
      ]
     },
     "execution_count": 20,
     "metadata": {},
     "output_type": "execute_result"
    }
   ],
   "source": [
    "d = np.concatenate((dx, dy.reshape(-1,1)), axis=1)\n",
    "d[:5]"
   ]
  },
  {
   "cell_type": "code",
   "execution_count": 8,
   "metadata": {},
   "outputs": [],
   "source": [
    "class Perceptron:\n",
    "    def __init__(self, input_size):\n",
    "        np.random.seed(42)\n",
    "        self.sizes = [input_size, 1]\n",
    "        self.bias = np.random.randn(1, 1)\n",
    "        self.weights = np.random.randn(1, input_size)\n",
    "        # used for plotting convergence\n",
    "        self.parameters_as_they_change = [np.concatenate((self.bias[0], self.weights.squeeze()), axis=0)] \n",
    "        '''\n",
    "        print(\"Generated Perceptron:\")\n",
    "        print(f\"\\tSizes: {self.sizes}\")\n",
    "        print(f\"\\tBias: {self.bias}\")\n",
    "        print(f\"\\tWeights: {self.weights}\")\n",
    "        print(\"-------------------------------------------------------------\")\n",
    "        '''\n",
    "    def feedforward(self, a):\n",
    "        return np.dot(self.weights, a) + self.bias.squeeze()\n",
    "    \n",
    "    def sgd(self, training_data, mini_batch_size, epochs, eta):\n",
    "        n = len(training_data)\n",
    "        for e in range(epochs):\n",
    "            shuffle(training_data)\n",
    "            mini_batches = [training_data[k:k + mini_batch_size] for k in range(0, n, mini_batch_size)]\n",
    "            for mini_batch in mini_batches:\n",
    "                self.update_mini_batch(mini_batch,eta)\n",
    "                # Tracking the effect of sgd on the parameters\n",
    "                parameters_concatenated = np.concatenate((self.bias[0], self.weights.squeeze()), axis=0)\n",
    "                self.parameters_as_they_change.append(parameters_concatenated)\n",
    "    \n",
    "    def update_mini_batch(self, mini_batch, eta):\n",
    "        nabla_b = np.zeros(self.bias.shape)\n",
    "        nabla_w = np.zeros(self.weights.shape)\n",
    "        for x, y in mini_batch:\n",
    "            delta_nabla_b, delta_nabla_w = self.backprop(x, y)\n",
    "            nabla_b = nabla_b + delta_nabla_b\n",
    "            nabla_w = nabla_w + delta_nabla_w\n",
    "        self.weights = self.weights - (eta/len(mini_batch) * nabla_w)\n",
    "        self.bias = self.bias - (eta/len(mini_batch) * nabla_b)\n",
    "        '''\n",
    "        print(\"Updated Parameters:\")\n",
    "        print(f\"\\tBias: {self.bias}\")\n",
    "        print(f\"\\tWeights: {self.weights}\")\n",
    "        print(\"-------------------------------------------------------------\")\n",
    "        '''\n",
    "    def backprop(self, x, y):\n",
    "        nabla_b = np.zeros(self.bias.shape)\n",
    "        nabla_w = np.zeros(self.weights.shape)\n",
    "        # Feedforward\n",
    "        z = self.feedforward(x) \n",
    "        # Backprop\n",
    "        delta = self.cost_derivative(z, y)\n",
    "        delta = delta[..., None]\n",
    "        nabla_b = delta\n",
    "        nabla_w = np.dot(delta, x.reshape(1,-1))\n",
    "        return nabla_b, nabla_w\n",
    "    \n",
    "    def cost_derivative(self, output_activations, y):\n",
    "        return (output_activations-y)"
   ]
  },
  {
   "cell_type": "code",
   "execution_count": 89,
   "metadata": {},
   "outputs": [],
   "source": [
    "perceptron = Perceptron(2)\n",
    "perceptron.sgd(training_data=training_data, mini_batch_size=10, epochs=100, eta=0.01)"
   ]
  },
  {
   "cell_type": "code",
   "execution_count": 93,
   "metadata": {},
   "outputs": [
    {
     "data": {
      "application/vnd.jupyter.widget-view+json": {
       "model_id": "5eed5e476c4c42df99e2d935af546f14",
       "version_major": 2,
       "version_minor": 0
      },
      "text/plain": [
       "Canvas(toolbar=Toolbar(toolitems=[('Home', 'Reset original view', 'home', 'home'), ('Back', 'Back to previous …"
      ]
     },
     "metadata": {},
     "output_type": "display_data"
    }
   ],
   "source": [
    "import matplotlib.pyplot as plt\n",
    "from mpl_toolkits.mplot3d import Axes3D\n",
    "%matplotlib widget\n",
    "\n",
    "def plot_sgd(params):\n",
    "    fig = plt.figure()\n",
    "    ax = fig.add_subplot(111, projection='3d')\n",
    "    ax.plot(params[:, 0], params[:, 1], params[:, 2])\n",
    "    ax.set_xlabel('Bias')\n",
    "    ax.set_ylabel('W 1')\n",
    "    ax.set_zlabel('W 2')\n",
    "    plt.show()\n",
    "\n",
    "params = np.array(perceptron.parameters_as_they_change)\n",
    "plot_sgd(params)"
   ]
  },
  {
   "cell_type": "markdown",
   "metadata": {},
   "source": [
    "# Investigating the Effect of Standardization & Normalization on the Convergence of the Parameters"
   ]
  },
  {
   "cell_type": "code",
   "execution_count": 50,
   "metadata": {},
   "outputs": [],
   "source": [
    "dx1_standardized = (dx_train[:,0] - dx_train[:,0].mean()) / dx_train[:,0].std()\n",
    "dx2_standardized = (dx_train[:,1] - dx_train[:,1].mean()) / dx_train[:,1].std()\n",
    "\n",
    "dx_train_standardized = np.concatenate((dx1_standardized.reshape(-1,1), dx2_standardized.reshape(-1,1)), axis=1)\n",
    "dy_train_with_standardized_x = (dx1_standardized + dx2_standardized * 0.5)"
   ]
  },
  {
   "cell_type": "code",
   "execution_count": 53,
   "metadata": {
    "scrolled": true
   },
   "outputs": [
    {
     "data": {
      "text/plain": [
       "(array([[-0.55691098,  1.55759807],\n",
       "        [ 0.80869448,  0.06826127],\n",
       "        [-0.38621029,  1.72307993],\n",
       "        [-0.55691098,  1.3921162 ],\n",
       "        [ 0.12589175,  0.06826127]]),\n",
       " array([0.22188806, 0.84282512, 0.47532967, 0.13914712, 0.16002239]))"
      ]
     },
     "execution_count": 53,
     "metadata": {},
     "output_type": "execute_result"
    }
   ],
   "source": [
    "dx_train_standardized[:5], dy_train_with_standardized_x[:5]"
   ]
  },
  {
   "cell_type": "code",
   "execution_count": 58,
   "metadata": {},
   "outputs": [],
   "source": [
    "training_data_std = list(zip(dx_train_standardized, dy_train_with_standardized_x))"
   ]
  },
  {
   "cell_type": "code",
   "execution_count": 91,
   "metadata": {},
   "outputs": [],
   "source": [
    "perceptron_std = Perceptron(2)\n",
    "perceptron_std.sgd(training_data=training_data_std, mini_batch_size=10, epochs=100, eta=0.01)"
   ]
  },
  {
   "cell_type": "code",
   "execution_count": 94,
   "metadata": {},
   "outputs": [
    {
     "data": {
      "application/vnd.jupyter.widget-view+json": {
       "model_id": "eca0ffab8d3340a9a4322ba37a4e1cef",
       "version_major": 2,
       "version_minor": 0
      },
      "text/plain": [
       "Canvas(toolbar=Toolbar(toolitems=[('Home', 'Reset original view', 'home', 'home'), ('Back', 'Back to previous …"
      ]
     },
     "metadata": {},
     "output_type": "display_data"
    }
   ],
   "source": [
    "params_std = np.array(perceptron_std.parameters_as_they_change)\n",
    "plot_sgd(params_std)"
   ]
  },
  {
   "cell_type": "code",
   "execution_count": null,
   "metadata": {},
   "outputs": [],
   "source": []
  }
 ],
 "metadata": {
  "file_extension": ".py",
  "kernelspec": {
   "display_name": "Python 3.8.0 64-bit",
   "language": "python",
   "name": "python38064bit5f7c9fe68404493786e070ea1d1d2be7"
  },
  "language_info": {
   "codemirror_mode": {
    "name": "ipython",
    "version": 3
   },
   "file_extension": ".py",
   "mimetype": "text/x-python",
   "name": "python",
   "nbconvert_exporter": "python",
   "pygments_lexer": "ipython3",
   "version": "3.8.0"
  },
  "latex_envs": {
   "LaTeX_envs_menu_present": true,
   "autoclose": false,
   "autocomplete": true,
   "bibliofile": "biblio.bib",
   "cite_by": "apalike",
   "current_citInitial": 1,
   "eqLabelWithNumbers": true,
   "eqNumInitial": 1,
   "hotkeys": {
    "equation": "Ctrl-E",
    "itemize": "Ctrl-I"
   },
   "labels_anchors": false,
   "latex_user_defs": false,
   "report_style_numbering": false,
   "user_envs_cfg": false
  },
  "mimetype": "text/x-python",
  "name": "python",
  "npconvert_exporter": "python",
  "pygments_lexer": "ipython3",
  "toc": {
   "base_numbering": 1,
   "nav_menu": {},
   "number_sections": true,
   "sideBar": true,
   "skip_h1_title": false,
   "title_cell": "Table of Contents",
   "title_sidebar": "Contents",
   "toc_cell": false,
   "toc_position": {},
   "toc_section_display": true,
   "toc_window_display": false
  },
  "version": 3
 },
 "nbformat": 4,
 "nbformat_minor": 2
}
